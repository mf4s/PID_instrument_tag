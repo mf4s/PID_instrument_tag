{
 "cells": [
  {
   "attachments": {},
   "cell_type": "markdown",
   "metadata": {},
   "source": [
    "The version below verifies if the first letter of the code + the four digits are already in the final list, if not, it doesn't add. (best so far)"
   ]
  },
  {
   "cell_type": "code",
   "execution_count": 18,
   "metadata": {},
   "outputs": [
    {
     "name": "stdout",
     "output_type": "stream",
     "text": [
      "Instrument texts: [['ACE-5096', 'PSV-5720', 'PI-5719', 'SO-5723', 'XO-5723', 'FD-5723', 'AHS-5723', 'PI-5722', 'PI-5758', 'PDI-5759', 'PSV-5828', 'AI-5760', 'AE-5889', 'HHH-5721', 'FC-5721', 'PI-5209', 'PDI-5208', 'FE-5762', 'PI-5817', 'HVI-5198', 'PIN-5801']]\n"
     ]
    }
   ],
   "source": [
    "import PyPDF2\n",
    "import re\n",
    "\n",
    "instrument_codes = ['A', 'C', 'F', 'P', 'S', 'L', 'H', 'X']\n",
    "black_list = ['AL', 'PA', 'AD', 'HI', 'LLL', 'LLL', 'LO', 'LHH', 'HLL']\n",
    "\n",
    "filepath = \"/Users/marcelosouza/Documents/Kraton/PIDs/\"\n",
    "\n",
    "pdf_file = open(filepath+'CarbonAbsorber_PID_20230317_1.pdf', 'rb') \n",
    "\n",
    "pdf_reader = PyPDF2.PdfReader(pdf_file)\n",
    "\n",
    "instrument_texts = []\n",
    "\n",
    "for page_num in range(len(pdf_reader.pages)):\n",
    "    page = pdf_reader.pages[page_num]\n",
    "    page_text = page.extract_text()\n",
    "\n",
    "    page_instruments = []\n",
    "    for line in page_text.split('\\n'):\n",
    "        for code in instrument_codes:\n",
    "            pattern = r'((?:' + code + r'\\w{1,2})\\d{4}|\\d{4}(?:' + code + r'\\w{1,2}))'\n",
    "            matches = re.findall(pattern, line)\n",
    "\n",
    "            for match in matches:\n",
    "                instrument_code_match = re.search(r'\\D{2,3}', match)\n",
    "                num_match = re.search(r'\\d{4}', match)\n",
    "                \n",
    "                if instrument_code_match and num_match:\n",
    "                    instrument_code = instrument_code_match.group()\n",
    "                    num = num_match.group()\n",
    "\n",
    "                    # Check if the instrument code is not in the black_list\n",
    "                    if instrument_code not in black_list and int(num[0]) >= 5:\n",
    "                        # Check if the first letter and the 4 digits are not already in the final list\n",
    "                        should_add = True\n",
    "                        for existing_code in page_instruments:\n",
    "                            existing_letter = existing_code.split('-')[0][0]\n",
    "                            existing_digits = existing_code.split('-')[1]\n",
    "                            if instrument_code[0] == existing_letter and num == existing_digits:\n",
    "                                should_add = False\n",
    "                                break\n",
    "\n",
    "                        if should_add:\n",
    "                            page_instruments.append(f\"{instrument_code}-{num}\")\n",
    "\n",
    "    instrument_texts.append(page_instruments)\n",
    "\n",
    "pdf_file.close()\n",
    "\n",
    "print('Instrument texts:', instrument_texts)\n"
   ]
  },
  {
   "attachments": {},
   "cell_type": "markdown",
   "metadata": {},
   "source": [
    "possible solution, using CV to check circles on P&ID, then extracting text and comparing to the codes above. --> still needs work: it is detecting the circles BUT it is not extracting the text correctly."
   ]
  },
  {
   "cell_type": "code",
   "execution_count": 8,
   "metadata": {},
   "outputs": [
    {
     "name": "stdout",
     "output_type": "stream",
     "text": [
      "Valid instrument texts: []\n",
      "Valid instrument texts: [[[ 616 1622   99]\n",
      "  [ 912 1620   99]\n",
      "  [1108  804   99]]]\n"
     ]
    }
   ],
   "source": [
    "import cv2\n",
    "import pytesseract\n",
    "import numpy as np\n",
    "from PIL import Image\n",
    "import re\n",
    "from pdf2image import convert_from_path\n",
    "\n",
    "# Convert PDF to images\n",
    "def pdf_to_images(pdf_path):\n",
    "    images = convert_from_path(pdf_path)\n",
    "    return images\n",
    "\n",
    "def detect_circles(image):\n",
    "    # Resize the image to zoom in\n",
    "    scale_percent = 200  # percentage of original size\n",
    "    width = int(image.shape[1] * scale_percent / 100)\n",
    "    height = int(image.shape[0] * scale_percent / 100)\n",
    "    dim = (width, height)\n",
    "    image = cv2.resize(image, dim, interpolation=cv2.INTER_AREA)\n",
    "\n",
    "    gray = cv2.cvtColor(image, cv2.COLOR_BGR2GRAY)\n",
    "    blurred = cv2.medianBlur(gray, 5)\n",
    "    circles = cv2.HoughCircles(blurred, cv2.HOUGH_GRADIENT, 1, 20, param1=250, param2=100, minRadius=1, maxRadius=0)\n",
    "\n",
    "    if circles is not None:\n",
    "        circles = np.uint16(np.around(circles))\n",
    "\n",
    "        # Filter out non-circular shapes\n",
    "        filtered_circles = []\n",
    "        for circle in circles[0, :]:\n",
    "            x, y, r = circle\n",
    "            mask = np.zeros_like(gray)\n",
    "            cv2.circle(mask, (x, y), r, 255, -1)\n",
    "            \n",
    "            # Adjust the following line based on the OpenCV version\n",
    "            contours = cv2.findContours(mask, cv2.RETR_EXTERNAL, cv2.CHAIN_APPROX_NONE)\n",
    "            contours = contours[0] if len(contours) == 2 else contours[1]\n",
    "\n",
    "            # Iterate over contours and check circularity\n",
    "            for contour in contours:\n",
    "                area = cv2.contourArea(contour)\n",
    "                perimeter = cv2.arcLength(contour, True)\n",
    "                circularity = 4 * np.pi * area / (perimeter * perimeter)\n",
    "\n",
    "                # Keep only shapes with circularity close to 1\n",
    "                if 0.8 < circularity < 1.2:\n",
    "                    filtered_circles.append(circle)\n",
    "                    break\n",
    "\n",
    "        return np.array([filtered_circles])\n",
    "    else:\n",
    "        return None\n",
    "\n",
    "def extract_text_from_circles(image, circles):\n",
    "    texts = []\n",
    "    if circles is not None:\n",
    "        circles = np.uint16(np.around(circles))\n",
    "        for circle in circles[0, :]:\n",
    "            x, y, r = circle\n",
    "            x, y, r = np.int64(x), np.int64(y), np.int64(r)  # Cast variables to int64\n",
    "            x_min, x_max = max(x - r, 0), min(x + r, image.shape[1])\n",
    "            y_min, y_max = max(y - r, 0), min(y + r, image.shape[0])\n",
    "            cropped_image = image[y_min:y_max, x_min:x_max]\n",
    "            \n",
    "            # Show the image\n",
    "            # cv2.imshow(\"Cropped\", cropped_image)\n",
    "            # cv2.waitKey(0)\n",
    "            # cv2.destroyAllWindows() \n",
    "\n",
    "            # Check if the cropped image has a valid shape\n",
    "            if cropped_image.shape[0] > 0 and cropped_image.shape[1] > 0:\n",
    "                # Preprocess the cropped image\n",
    "                gray = cv2.cvtColor(cropped_image, cv2.COLOR_BGR2GRAY)\n",
    "                _, binary = cv2.threshold(gray, 0, 255, cv2.THRESH_BINARY_INV + cv2.THRESH_OTSU)\n",
    "\n",
    "                # OCR configurations\n",
    "                custom_config = '--oem 3 --psm 6 -c tessedit_char_whitelist=ABCDEFGHIJKLMNOPQRSTUVWXYZ0123456789-'\n",
    "\n",
    "                text = pytesseract.image_to_string(binary, config=custom_config).strip()\n",
    "\n",
    "                # Post-process the text\n",
    "                text_lines = text.split('\\n')\n",
    "\n",
    "                if len(text_lines) == 2:\n",
    "                    text = f\"{text_lines[0]}-{text_lines[1]}\"\n",
    "                    texts.append(text)\n",
    "    return texts\n",
    "\n",
    "# Main function\n",
    "def main():\n",
    "    filepath = \"/Users/marcelosouza/Documents/Kraton/PIDs/\"\n",
    "    # pdf_path = filepath+'CarbonAbsorber_PID_20230317_2.pdf'\n",
    "    pdf_path = filepath+'test_pid.pdf'\n",
    "    images = pdf_to_images(pdf_path)\n",
    "    all_valid_texts = []\n",
    "\n",
    "    for image in images:\n",
    "        image = np.array(image)\n",
    "        circles = detect_circles(image)\n",
    "        texts = extract_text_from_circles(image, circles)\n",
    "        all_valid_texts.extend(texts)\n",
    "\n",
    "    print('Valid instrument texts:', all_valid_texts)\n",
    "    print('Valid instrument texts:', circles)\n",
    "\n",
    "if __name__ == \"__main__\":\n",
    "    main()"
   ]
  },
  {
   "attachments": {},
   "cell_type": "markdown",
   "metadata": {},
   "source": [
    "Detecting circles in a dummy image"
   ]
  },
  {
   "cell_type": "code",
   "execution_count": 1,
   "metadata": {},
   "outputs": [
    {
     "data": {
      "text/plain": [
       "-1"
      ]
     },
     "execution_count": 1,
     "metadata": {},
     "output_type": "execute_result"
    },
    {
     "ename": "",
     "evalue": "",
     "output_type": "error",
     "traceback": [
      "\u001b[1;31mThe Kernel crashed while executing code in the the current cell or a previous cell. Please review the code in the cell(s) to identify a possible cause of the failure. Click <a href='https://aka.ms/vscodeJupyterKernelCrash'>here</a> for more info. View Jupyter <a href='command:jupyter.viewOutput'>log</a> for further details."
     ]
    }
   ],
   "source": [
    "import cv2\n",
    "import numpy as np\n",
    "\n",
    "def detect_circles(image):\n",
    "    gray = cv2.cvtColor(image, cv2.COLOR_BGR2GRAY)\n",
    "    blurred = cv2.medianBlur(gray, 5)\n",
    "    circles = cv2.HoughCircles(blurred, cv2.HOUGH_GRADIENT, 1, 20, param1=250, param2=140, minRadius=1, maxRadius=0)\n",
    "    return circles\n",
    "\n",
    "def draw_labeled_circles(image, circles):\n",
    "    labeled_image = image.copy()\n",
    "    if circles is not None:\n",
    "        circles = np.uint16(np.around(circles))\n",
    "        for idx, circle in enumerate(circles[0, :]):\n",
    "            x, y, r = circle\n",
    "            cv2.circle(labeled_image, (x, y), r, (0, 255, 0), 2)\n",
    "            cv2.putText(labeled_image, str(idx+1), (x, y), cv2.FONT_HERSHEY_SIMPLEX, 0.8, (0, 0, 255), 2)\n",
    "    return labeled_image\n",
    "\n",
    "# Load your image\n",
    "filepath = \"/Users/marcelosouza/Documents/Kraton/PIDs/\"\n",
    "image_path = filepath+'test_pid.jpg'\n",
    "image = cv2.imread(image_path)\n",
    "\n",
    "# Detect circles\n",
    "circles = detect_circles(image)\n",
    "\n",
    "# Draw labeled circles on the image\n",
    "labeled_image = draw_labeled_circles(image, circles)\n",
    "\n",
    "# Show the labeled image\n",
    "cv2.imshow(\"Labeled Circles\", labeled_image)\n",
    "cv2.waitKey(0)\n",
    "cv2.destroyAllWindows()\n",
    "cv2.waitKey(1)\n",
    "cv2.waitKey(1)\n",
    "cv2.waitKey(1)\n",
    "cv2.waitKey(1)\n"
   ]
  }
 ],
 "metadata": {
  "kernelspec": {
   "display_name": "base",
   "language": "python",
   "name": "python3"
  },
  "language_info": {
   "codemirror_mode": {
    "name": "ipython",
    "version": 3
   },
   "file_extension": ".py",
   "mimetype": "text/x-python",
   "name": "python",
   "nbconvert_exporter": "python",
   "pygments_lexer": "ipython3",
   "version": "3.9.13"
  },
  "orig_nbformat": 4
 },
 "nbformat": 4,
 "nbformat_minor": 2
}
